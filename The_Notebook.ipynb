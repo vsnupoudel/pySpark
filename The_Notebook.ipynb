{
  "nbformat": 4,
  "nbformat_minor": 0,
  "metadata": {
    "colab": {
      "name": "The_Notebook.ipynb",
      "provenance": [],
      "collapsed_sections": []
    },
    "kernelspec": {
      "name": "python3",
      "display_name": "Python 3"
    }
  },
  "cells": [
    {
      "cell_type": "markdown",
      "metadata": {
        "id": "jPyDpDqvZuLo"
      },
      "source": [
        "# **Welcome to the Notebook**"
      ]
    },
    {
      "cell_type": "markdown",
      "metadata": {
        "id": "F2YNhXuUwGNl"
      },
      "source": [
        "### Let's mount the google drive "
      ]
    },
    {
      "cell_type": "code",
      "metadata": {
        "id": "MmQC7J5cvkzE",
        "colab": {
          "base_uri": "https://localhost:8080/"
        },
        "outputId": "925f4870-5265-4e1f-ceb2-116face065fb"
      },
      "source": [
        "from google.colab import drive\n",
        "drive.mount('/content/drive')"
      ],
      "execution_count": 1,
      "outputs": [
        {
          "output_type": "stream",
          "name": "stdout",
          "text": [
            "Mounted at /content/drive\n"
          ]
        }
      ]
    },
    {
      "cell_type": "markdown",
      "metadata": {
        "id": "cs9EInKyWicZ"
      },
      "source": [
        "# Task 1 : \n",
        "Installing pyspark module"
      ]
    },
    {
      "cell_type": "code",
      "metadata": {
        "id": "LJq2nzUKWujx",
        "colab": {
          "base_uri": "https://localhost:8080/"
        },
        "outputId": "9f86d0c0-9fd6-4c9c-9e89-5f456c116dd6"
      },
      "source": [
        "!pip install pyspark"
      ],
      "execution_count": 2,
      "outputs": [
        {
          "output_type": "stream",
          "name": "stdout",
          "text": [
            "Collecting pyspark\n",
            "  Downloading pyspark-3.2.0.tar.gz (281.3 MB)\n",
            "\u001b[K     |████████████████████████████████| 281.3 MB 8.9 kB/s \n",
            "\u001b[?25hCollecting py4j==0.10.9.2\n",
            "  Downloading py4j-0.10.9.2-py2.py3-none-any.whl (198 kB)\n",
            "\u001b[K     |████████████████████████████████| 198 kB 48.7 MB/s \n",
            "\u001b[?25hBuilding wheels for collected packages: pyspark\n",
            "  Building wheel for pyspark (setup.py) ... \u001b[?25l\u001b[?25hdone\n",
            "  Created wheel for pyspark: filename=pyspark-3.2.0-py2.py3-none-any.whl size=281805912 sha256=341c89a2e10c24c32d88fbfd3067c1608f188b56d750bf7236b750be51f090e0\n",
            "  Stored in directory: /root/.cache/pip/wheels/0b/de/d2/9be5d59d7331c6c2a7c1b6d1a4f463ce107332b1ecd4e80718\n",
            "Successfully built pyspark\n",
            "Installing collected packages: py4j, pyspark\n",
            "Successfully installed py4j-0.10.9.2 pyspark-3.2.0\n"
          ]
        }
      ]
    },
    {
      "cell_type": "markdown",
      "metadata": {
        "id": "dVNAlw2jWiWb"
      },
      "source": [
        "Importing the modules "
      ]
    },
    {
      "cell_type": "code",
      "metadata": {
        "id": "gS3YIWJiW7I3"
      },
      "source": [
        "from pyspark.sql import SparkSession\n",
        "from pyspark.sql.functions import count, desc , col, max \n",
        "import matplotlib.pyplot as plts"
      ],
      "execution_count": 3,
      "outputs": []
    },
    {
      "cell_type": "markdown",
      "metadata": {
        "id": "RKuIUYLwSkNP"
      },
      "source": [
        "creating spark session"
      ]
    },
    {
      "cell_type": "code",
      "metadata": {
        "id": "XXSZBvRgSnCN",
        "cellView": "both"
      },
      "source": [
        "spark = SparkSession.builder.appName('spark_app').getOrCreate()"
      ],
      "execution_count": 4,
      "outputs": []
    },
    {
      "cell_type": "markdown",
      "metadata": {
        "id": "vv_SKqr8T9mT"
      },
      "source": [
        "# Task 2 : \n",
        "importing the *Listenings.csv* file: "
      ]
    },
    {
      "cell_type": "code",
      "metadata": {
        "id": "gK22lJDRTuKY"
      },
      "source": [
        "listening_csv_path = '/content/drive/MyDrive/dataset/listenings.csv'\n",
        "listening_df = spark.read.format('csv').option('inferSchema',True).option(\n",
        "'header', True).load(listening_csv_path)"
      ],
      "execution_count": 6,
      "outputs": []
    },
    {
      "cell_type": "markdown",
      "metadata": {
        "id": "s1i6KVshykdn"
      },
      "source": [
        "let's check the data:"
      ]
    },
    {
      "cell_type": "code",
      "metadata": {
        "id": "5Ji0zViUyjUE",
        "colab": {
          "base_uri": "https://localhost:8080/"
        },
        "outputId": "64c0a29e-7d7a-4a75-d5e0-f59329576ab3"
      },
      "source": [
        "listening_df.show(4)"
      ],
      "execution_count": 7,
      "outputs": [
        {
          "output_type": "stream",
          "name": "stdout",
          "text": [
            "+-----------+-------------+--------------------+--------+-----------+\n",
            "|    user_id|         date|               track|  artist|      album|\n",
            "+-----------+-------------+--------------------+--------+-----------+\n",
            "|000Silenced|1299680100000|           Price Tag|Jessie J|Who You Are|\n",
            "|000Silenced|1299679920000|Price Tag (Acoust...|Jessie J|  Price Tag|\n",
            "|000Silenced|1299679440000|Be Mine! (Ballad ...|   Robyn|   Be Mine!|\n",
            "|000Silenced|1299679200000|            Acapella|   Kelis|   Acapella|\n",
            "+-----------+-------------+--------------------+--------+-----------+\n",
            "only showing top 4 rows\n",
            "\n"
          ]
        }
      ]
    },
    {
      "cell_type": "markdown",
      "metadata": {
        "id": "HS6wd2d_woNC"
      },
      "source": [
        "let's delete useless columns:"
      ]
    },
    {
      "cell_type": "code",
      "metadata": {
        "id": "pIMzBAglwtNP"
      },
      "source": [
        "listening_df = listening_df.drop('date')"
      ],
      "execution_count": 8,
      "outputs": []
    },
    {
      "cell_type": "markdown",
      "metadata": {
        "id": "MwpJJeWa4qmn"
      },
      "source": [
        "drop the null rows:"
      ]
    },
    {
      "cell_type": "code",
      "metadata": {
        "id": "Botf6-Vb4uqs"
      },
      "source": [
        "listening_df = listening_df.na.drop()"
      ],
      "execution_count": 9,
      "outputs": []
    },
    {
      "cell_type": "markdown",
      "metadata": {
        "id": "tTN6jr3K4xkF"
      },
      "source": [
        "let's check the dataset again:"
      ]
    },
    {
      "cell_type": "code",
      "metadata": {
        "id": "JDp_rdEY40u3",
        "colab": {
          "base_uri": "https://localhost:8080/"
        },
        "outputId": "06d0f772-99ee-4029-fe54-394442551f91"
      },
      "source": [
        "listening_df.show(3)"
      ],
      "execution_count": 10,
      "outputs": [
        {
          "output_type": "stream",
          "name": "stdout",
          "text": [
            "+-----------+--------------------+--------+-----------+\n",
            "|    user_id|               track|  artist|      album|\n",
            "+-----------+--------------------+--------+-----------+\n",
            "|000Silenced|           Price Tag|Jessie J|Who You Are|\n",
            "|000Silenced|Price Tag (Acoust...|Jessie J|  Price Tag|\n",
            "|000Silenced|Be Mine! (Ballad ...|   Robyn|   Be Mine!|\n",
            "+-----------+--------------------+--------+-----------+\n",
            "only showing top 3 rows\n",
            "\n"
          ]
        }
      ]
    },
    {
      "cell_type": "markdown",
      "metadata": {
        "id": "Z7nKCYoZltnv"
      },
      "source": [
        "let's see the schema: "
      ]
    },
    {
      "cell_type": "code",
      "metadata": {
        "id": "qVg1jt1OyWdh",
        "colab": {
          "base_uri": "https://localhost:8080/"
        },
        "outputId": "6ff5db7d-5ab7-4af9-ff4c-3eff0ee5c5bf"
      },
      "source": [
        "listening_df.printSchema()"
      ],
      "execution_count": 11,
      "outputs": [
        {
          "output_type": "stream",
          "name": "stdout",
          "text": [
            "root\n",
            " |-- user_id: string (nullable = true)\n",
            " |-- track: string (nullable = true)\n",
            " |-- artist: string (nullable = true)\n",
            " |-- album: string (nullable = true)\n",
            "\n"
          ]
        }
      ]
    },
    {
      "cell_type": "markdown",
      "metadata": {
        "id": "JMkQsQt2xSb5"
      },
      "source": [
        "let's see the shape of our dataframe: "
      ]
    },
    {
      "cell_type": "code",
      "metadata": {
        "id": "6POkV3YFmh6b",
        "colab": {
          "base_uri": "https://localhost:8080/"
        },
        "outputId": "602d67a5-e30a-484b-c6e1-86bd90bc6b0b"
      },
      "source": [
        "shape  = ( listening_df.count(), len(   listening_df.columns) )\n",
        "print(shape)"
      ],
      "execution_count": 13,
      "outputs": [
        {
          "output_type": "stream",
          "name": "stdout",
          "text": [
            "(13758905, 4)\n"
          ]
        }
      ]
    },
    {
      "cell_type": "markdown",
      "metadata": {
        "id": "XMD0DhFl2FEJ"
      },
      "source": [
        "# Task 3:\n",
        "\n",
        "**Query #0:**\n",
        "select two columns: track and artist"
      ]
    },
    {
      "cell_type": "code",
      "metadata": {
        "id": "FZTdA5wn2TZy",
        "colab": {
          "base_uri": "https://localhost:8080/"
        },
        "outputId": "cfe1be4c-5bab-4707-fe92-dcce937bf4af"
      },
      "source": [
        "q0 = listening_df.select('artist','track')\n",
        "q0.show(3)"
      ],
      "execution_count": 14,
      "outputs": [
        {
          "output_type": "stream",
          "name": "stdout",
          "text": [
            "+--------+--------------------+\n",
            "|  artist|               track|\n",
            "+--------+--------------------+\n",
            "|Jessie J|           Price Tag|\n",
            "|Jessie J|Price Tag (Acoust...|\n",
            "|   Robyn|Be Mine! (Ballad ...|\n",
            "+--------+--------------------+\n",
            "only showing top 3 rows\n",
            "\n"
          ]
        }
      ]
    },
    {
      "cell_type": "markdown",
      "metadata": {
        "id": "QRcgXOFs2hjw"
      },
      "source": [
        "**Query #1**:\n",
        "\n",
        "Let's find all of the records of those users who have listened to ***Rihanna***"
      ]
    },
    {
      "cell_type": "code",
      "metadata": {
        "id": "ICyiTMVnppLw",
        "colab": {
          "base_uri": "https://localhost:8080/"
        },
        "outputId": "fb046809-cb78-42d1-edfe-d4fa7dbe693b"
      },
      "source": [
        "q1 = listening_df.select('*').filter(listening_df.artist == 'Rihanna')\n",
        "q1.show(4)"
      ],
      "execution_count": 16,
      "outputs": [
        {
          "output_type": "stream",
          "name": "stdout",
          "text": [
            "+-----------+--------------------+-------+--------------------+\n",
            "|    user_id|               track| artist|               album|\n",
            "+-----------+--------------------+-------+--------------------+\n",
            "|000Silenced|Don't Stop The Mu...|Rihanna|Addicted 2 Bassli...|\n",
            "|000Silenced|           Disturbia|Rihanna|Good Girl Gone Ba...|\n",
            "|00williamsl|   Hatin On The Club|Rihanna|              Random|\n",
            "|00williamsl|   Hatin On The Club|Rihanna|              Random|\n",
            "+-----------+--------------------+-------+--------------------+\n",
            "only showing top 4 rows\n",
            "\n"
          ]
        }
      ]
    },
    {
      "cell_type": "markdown",
      "metadata": {
        "id": "I0IafeyvFU9O"
      },
      "source": [
        "**Query #2:**\n",
        "\n",
        "Let's find top 10 users who are fan of ***Rihanna***"
      ]
    },
    {
      "cell_type": "code",
      "metadata": {
        "id": "3-hM9kMm7JmI",
        "colab": {
          "base_uri": "https://localhost:8080/"
        },
        "outputId": "99ede759-ad64-42a0-ad6c-81d46d303da8"
      },
      "source": [
        "q2 = listening_df.select('user_id').filter(listening_df.artist == 'Rihanna').groupby(\n",
        "    'user_id').agg( count('user_id').alias('count') ).orderBy(desc('count')).limit(10) \n",
        "q2.show()"
      ],
      "execution_count": 21,
      "outputs": [
        {
          "output_type": "stream",
          "name": "stdout",
          "text": [
            "+---------------+-----+\n",
            "|        user_id|count|\n",
            "+---------------+-----+\n",
            "|        thiessu|  179|\n",
            "|    eyessetkyle|  166|\n",
            "|           adxx|  164|\n",
            "|missnumberthree|  156|\n",
            "|helloiamnatalie|  128|\n",
            "|          nmjnb|  124|\n",
            "|        AndyyyA|  123|\n",
            "|     BIGBANG186|  121|\n",
            "|     mixedvibes|  120|\n",
            "|       AndyKitt|  115|\n",
            "+---------------+-----+\n",
            "\n"
          ]
        }
      ]
    },
    {
      "cell_type": "markdown",
      "metadata": {
        "id": "hgAAl6aAcp41"
      },
      "source": [
        "**Query #3:**\n",
        "\n",
        "find top 10 famous tracks "
      ]
    },
    {
      "cell_type": "code",
      "metadata": {
        "id": "qlh3IUzfJ3_I",
        "colab": {
          "base_uri": "https://localhost:8080/"
        },
        "outputId": "d2f23192-2950-4627-f08c-f9045c25dbd7"
      },
      "source": [
        "q3 = listening_df.select('artist','track').groupby('artist','track').agg(count('*').alias('count')\n",
        ").orderBy(desc('count')).limit(10)\n",
        "q3.show()"
      ],
      "execution_count": 22,
      "outputs": [
        {
          "output_type": "stream",
          "name": "stdout",
          "text": [
            "+--------------+----------------+-----+\n",
            "|        artist|           track|count|\n",
            "+--------------+----------------+-----+\n",
            "| Justin Bieber|           Sorry| 3381|\n",
            "|Arctic Monkeys|Do I Wanna Know?| 2865|\n",
            "|      Bon Iver|     Skinny Love| 2836|\n",
            "|          Zayn|      PILLOWTALK| 2701|\n",
            "|   The Killers|   Mr Brightside| 2690|\n",
            "|       Rihanna|            Work| 2646|\n",
            "|      Bastille|         Pompeii| 2606|\n",
            "|Mumford & Sons| Little Lion Man| 2520|\n",
            "|Mumford & Sons|        The Cave| 2485|\n",
            "| Justin Bieber|   Love Yourself| 2481|\n",
            "+--------------+----------------+-----+\n",
            "\n"
          ]
        }
      ]
    },
    {
      "cell_type": "markdown",
      "metadata": {
        "id": "HqhPhQvjeXt0"
      },
      "source": [
        "**Query #4:**\n",
        "\n",
        "find top 10 famous tracks of ***Rihanna*** "
      ]
    },
    {
      "cell_type": "code",
      "metadata": {
        "id": "D_npmdh1ec8y",
        "colab": {
          "base_uri": "https://localhost:8080/"
        },
        "outputId": "985f80de-3669-400f-fa0d-c2780d2d28df"
      },
      "source": [
        "q4 = listening_df.select('artist','track').filter(listening_df.artist=='Rihanna' ).groupby('artist','track').agg(\n",
        "    count('*').alias('count')\n",
        ").orderBy(desc('count')).limit(10)\n",
        "q4.show()"
      ],
      "execution_count": 23,
      "outputs": [
        {
          "output_type": "stream",
          "name": "stdout",
          "text": [
            "+-------+--------------------+-----+\n",
            "| artist|               track|count|\n",
            "+-------+--------------------+-----+\n",
            "|Rihanna|                Work| 2646|\n",
            "|Rihanna|Only Girl (In the...| 1749|\n",
            "|Rihanna|We Found Love (fe...| 1575|\n",
            "|Rihanna|                 S&M| 1307|\n",
            "|Rihanna|            Rude Boy| 1303|\n",
            "|Rihanna|            Diamonds| 1224|\n",
            "|Rihanna|      Kiss it Better|  945|\n",
            "|Rihanna| Where Have You Been|  844|\n",
            "|Rihanna|Cheers (Drink to ...|  697|\n",
            "|Rihanna|           Needed Me|  679|\n",
            "+-------+--------------------+-----+\n",
            "\n"
          ]
        }
      ]
    },
    {
      "cell_type": "markdown",
      "metadata": {
        "id": "E6pgcH0p1ZXo"
      },
      "source": [
        "**Query #5:**\n",
        "\n",
        "find top 10 famous albums "
      ]
    },
    {
      "cell_type": "code",
      "metadata": {
        "id": "c5YHm6yKenE7",
        "colab": {
          "base_uri": "https://localhost:8080/"
        },
        "outputId": "221f63ca-aa04-424b-8d8c-2a936005a012"
      },
      "source": [
        "q5 = listening_df.groupby('artist','album').agg(\n",
        "    count('*').alias('count')\n",
        ").orderBy(desc('count')).limit(10)\n",
        "q5.show()"
      ],
      "execution_count": 24,
      "outputs": [
        {
          "output_type": "stream",
          "name": "stdout",
          "text": [
            "+--------------------+--------------------+-----+\n",
            "|              artist|               album|count|\n",
            "+--------------------+--------------------+-----+\n",
            "|          Kanye West|   The Life Of Pablo|22310|\n",
            "|              The xx|                  xx|14195|\n",
            "|      Arctic Monkeys|                  AM|14090|\n",
            "|               alt-J|     An Awesome Wave|13635|\n",
            "|      Mumford & Sons|        Sigh No More|13543|\n",
            "|      Arctic Monkeys|Whatever People S...|12731|\n",
            "|            Bon Iver|            For Emma|11994|\n",
            "|              Grimes|          Art Angels|11655|\n",
            "|Florence + the Ma...|               Lungs|11362|\n",
            "|               Adele|                  21|11215|\n",
            "+--------------------+--------------------+-----+\n",
            "\n"
          ]
        }
      ]
    },
    {
      "cell_type": "markdown",
      "metadata": {
        "id": "YXev8HQ57bdq"
      },
      "source": [
        "# Task 4 :\n",
        "importing the ***genre.csv*** file:"
      ]
    },
    {
      "cell_type": "code",
      "metadata": {
        "id": "tpXSrYfu14PB",
        "colab": {
          "base_uri": "https://localhost:8080/"
        },
        "outputId": "9b5320ad-88ed-4113-d85a-299fb96c4c50"
      },
      "source": [
        "genre_csv_path  = '/content/drive/MyDrive/dataset/genre.csv'\n",
        "genre_df = spark.read.format('csv').option('inferSchema', True).option(\n",
        "    'header', True ).load(genre_csv_path)\n",
        "genre_df.show()"
      ],
      "execution_count": 25,
      "outputs": [
        {
          "output_type": "stream",
          "name": "stdout",
          "text": [
            "+--------------------+-----+\n",
            "|              artist|genre|\n",
            "+--------------------+-----+\n",
            "|                Muse| rock|\n",
            "|             Nirvana| rock|\n",
            "|            Bon Jovi| rock|\n",
            "|          The Police| rock|\n",
            "|                Kiss| rock|\n",
            "|       Guns N' Roses| rock|\n",
            "|         Rusted Root| rock|\n",
            "|Katrina and the W...|  pop|\n",
            "|         The Beatles| rock|\n",
            "|        Hall & Oates|  pop|\n",
            "|        Otis Redding| soul|\n",
            "|         Marvin Gaye| soul|\n",
            "|     The Cranberries| rock|\n",
            "|            Survivor| rock|\n",
            "|       Fleetwood Mac|blues|\n",
            "|           Radiohead| rock|\n",
            "|                Toto| rock|\n",
            "|                  U2| rock|\n",
            "|Creedence Clearwa...| rock|\n",
            "|                 REM| rock|\n",
            "+--------------------+-----+\n",
            "only showing top 20 rows\n",
            "\n"
          ]
        }
      ]
    },
    {
      "cell_type": "markdown",
      "metadata": {
        "id": "aCHSo36W9RcP"
      },
      "source": [
        "let's check the data"
      ]
    },
    {
      "cell_type": "code",
      "metadata": {
        "id": "LJu4Ouz89O6_",
        "colab": {
          "base_uri": "https://localhost:8080/"
        },
        "outputId": "d0f37eff-04b4-463f-a6ef-e06f0f915991"
      },
      "source": [
        "listening_df.show(3)"
      ],
      "execution_count": 26,
      "outputs": [
        {
          "output_type": "stream",
          "name": "stdout",
          "text": [
            "+-----------+--------------------+--------+-----------+\n",
            "|    user_id|               track|  artist|      album|\n",
            "+-----------+--------------------+--------+-----------+\n",
            "|000Silenced|           Price Tag|Jessie J|Who You Are|\n",
            "|000Silenced|Price Tag (Acoust...|Jessie J|  Price Tag|\n",
            "|000Silenced|Be Mine! (Ballad ...|   Robyn|   Be Mine!|\n",
            "+-----------+--------------------+--------+-----------+\n",
            "only showing top 3 rows\n",
            "\n"
          ]
        }
      ]
    },
    {
      "cell_type": "markdown",
      "metadata": {
        "id": "72OpWX7F98qg"
      },
      "source": [
        "Let's inner join these two data frames"
      ]
    },
    {
      "cell_type": "code",
      "metadata": {
        "colab": {
          "base_uri": "https://localhost:8080/"
        },
        "id": "CcKLDyuY4ppu",
        "outputId": "6e067eff-734a-4728-9394-f4fe5945d248"
      },
      "source": [
        "data = listening_df.join(genre_df, how='inner', on=['artist'])\n",
        "data.show(6)"
      ],
      "execution_count": 27,
      "outputs": [
        {
          "output_type": "stream",
          "name": "stdout",
          "text": [
            "+--------+-----------+--------------------+-----------+--------------------+\n",
            "|  artist|    user_id|               track|      album|               genre|\n",
            "+--------+-----------+--------------------+-----------+--------------------+\n",
            "|Jessie J|000Silenced|           Price Tag|Who You Are| Ariana Grande & ...|\n",
            "|Jessie J|000Silenced|           Price Tag|Who You Are| Jhene Aiko & Rixton|\n",
            "|Jessie J|000Silenced|           Price Tag|Who You Are| Nicki Minaj & Ar...|\n",
            "|Jessie J|000Silenced|           Price Tag|Who You Are|                 pop|\n",
            "|Jessie J|000Silenced|Price Tag (Acoust...|  Price Tag| Ariana Grande & ...|\n",
            "|Jessie J|000Silenced|Price Tag (Acoust...|  Price Tag| Jhene Aiko & Rixton|\n",
            "+--------+-----------+--------------------+-----------+--------------------+\n",
            "only showing top 6 rows\n",
            "\n"
          ]
        }
      ]
    },
    {
      "cell_type": "markdown",
      "metadata": {
        "id": "yM_f5qILBNeI"
      },
      "source": [
        "**Query #6**\n",
        "\n",
        "find top 10 users who are fan of ***pop*** music"
      ]
    },
    {
      "cell_type": "code",
      "metadata": {
        "id": "dognQVlxBi2n",
        "colab": {
          "base_uri": "https://localhost:8080/"
        },
        "outputId": "60619f8d-2242-41dd-e2da-c3d1c88a5f1a"
      },
      "source": [
        "q6 = data.select('user_id').filter(data.genre =='pop').groupby(\n",
        "    'user_id').agg( count('*').alias('count') ).orderBy(desc('count')).limit(10)\n",
        "q6.show()"
      ],
      "execution_count": 28,
      "outputs": [
        {
          "output_type": "stream",
          "name": "stdout",
          "text": [
            "+---------------+-----+\n",
            "|        user_id|count|\n",
            "+---------------+-----+\n",
            "|        01Green|  496|\n",
            "|      momousagi|  400|\n",
            "|          mrpsb|  400|\n",
            "|   BlueKnockOut|  378|\n",
            "|    musicboy80s|  376|\n",
            "|  incultojurgis|  374|\n",
            "| ElektricOrchid|  370|\n",
            "|foreign_fanatic|  350|\n",
            "|   Kevin_Soutar|  346|\n",
            "|  landrover2171|  301|\n",
            "+---------------+-----+\n",
            "\n"
          ]
        }
      ]
    },
    {
      "cell_type": "markdown",
      "metadata": {
        "id": "63quzy7t-zb7"
      },
      "source": [
        "**Query #7**\n",
        "\n",
        "find top 10 famous genres"
      ]
    },
    {
      "cell_type": "code",
      "metadata": {
        "id": "aDFcoPPk-Rhf",
        "colab": {
          "base_uri": "https://localhost:8080/"
        },
        "outputId": "ed00ff35-131e-469d-d02f-a968eb855f5e"
      },
      "source": [
        "q6 = data.select('genre').groupby(\n",
        "    'genre').agg( count('*').alias('count') ).orderBy(desc('count')).limit(10)\n",
        "q6.show()"
      ],
      "execution_count": 30,
      "outputs": [
        {
          "output_type": "stream",
          "name": "stdout",
          "text": [
            "+----------+-------+\n",
            "|     genre|  count|\n",
            "+----------+-------+\n",
            "|      rock|2691934|\n",
            "|       pop|1544747|\n",
            "|electronic| 551509|\n",
            "|   hip hop| 532984|\n",
            "|      folk| 438174|\n",
            "|indie rock| 431439|\n",
            "|      punk| 380915|\n",
            "|       r&b| 344101|\n",
            "|     metal| 208107|\n",
            "|     indie| 206726|\n",
            "+----------+-------+\n",
            "\n"
          ]
        }
      ]
    },
    {
      "cell_type": "markdown",
      "metadata": {
        "id": "hrZOAWVgLMZo"
      },
      "source": [
        "# Task 5:\n",
        "**Query #8**\n",
        "\n",
        "find out each user favourite genre"
      ]
    },
    {
      "cell_type": "code",
      "metadata": {
        "id": "H3AWxlkbLvCg",
        "colab": {
          "base_uri": "https://localhost:8080/"
        },
        "outputId": "6d4e7530-4480-4364-a9f6-ab941918af8c"
      },
      "source": [
        "q6 = data.select('user_id','genre').groupby(\n",
        "    'user_id','genre').agg( count('*').alias('count_each') ).groupby('user_id','genre').agg(\n",
        "        max('count_each'))\n",
        "q6.show()"
      ],
      "execution_count": 32,
      "outputs": [
        {
          "output_type": "stream",
          "name": "stdout",
          "text": [
            "+---------------+--------------------+---------------+\n",
            "|        user_id|               genre|max(count_each)|\n",
            "+---------------+--------------------+---------------+\n",
            "|          _0015|     psychedelic pop|              3|\n",
            "|        01Green|          Maty Noyes|              1|\n",
            "|      01srainey|            Big Sean|              2|\n",
            "|      03swalker|                soul|              4|\n",
            "|        0502008|       Keys N Krates|              2|\n",
            "|       07berobe|national socialis...|             14|\n",
            "|       07berobe|        gothic metal|              8|\n",
            "|          0rdos|              celtic|              1|\n",
            "|     0xenolith0|       drum and bass|              1|\n",
            "|10bobrevolution|         000 Fathers|              4|\n",
            "| 11shadesofgrey|          electronic|              6|\n",
            "| 11shadesofgrey|             baroque|              1|\n",
            "|      1337fatal|                jazz|             14|\n",
            "|        14M5K0T|                jazz|             70|\n",
            "|          16-19| June Carter & Me...|              1|\n",
            "|          16-19| Kanye West & Pau...|              1|\n",
            "|   1888Franklin|               metal|             17|\n",
            "|           1936|       Woody Jackson|              1|\n",
            "|       19nick81|             minimal|             42|\n",
            "|   1Chordwonder| Jenny Lewis & Fr...|              1|\n",
            "+---------------+--------------------+---------------+\n",
            "only showing top 20 rows\n",
            "\n"
          ]
        }
      ]
    },
    {
      "cell_type": "code",
      "metadata": {
        "id": "Soy2bMxQN-Ub"
      },
      "source": [
        ""
      ],
      "execution_count": null,
      "outputs": []
    },
    {
      "cell_type": "markdown",
      "metadata": {
        "id": "6oIyhOHkCDuv"
      },
      "source": [
        "**Query #9**\n",
        "\n",
        "find out how many pop,rock,metal and hip hop singers we have\n",
        "\n",
        "and then visulize it using bar chart "
      ]
    },
    {
      "cell_type": "code",
      "metadata": {
        "id": "7_lEjNKVCDJv"
      },
      "source": [
        ""
      ],
      "execution_count": null,
      "outputs": []
    },
    {
      "cell_type": "markdown",
      "metadata": {
        "id": "h0h2SSk8InMH"
      },
      "source": [
        "Now, let's visualize the results using ***matplotlib***"
      ]
    },
    {
      "cell_type": "code",
      "metadata": {
        "id": "J-n8gOC0Imj5"
      },
      "source": [
        ""
      ],
      "execution_count": null,
      "outputs": []
    },
    {
      "cell_type": "code",
      "metadata": {
        "id": "CMigHLrEQgKv"
      },
      "source": [
        ""
      ],
      "execution_count": null,
      "outputs": []
    },
    {
      "cell_type": "code",
      "metadata": {
        "id": "FYLE4Mbu_Lbu"
      },
      "source": [
        ""
      ],
      "execution_count": null,
      "outputs": []
    },
    {
      "cell_type": "markdown",
      "metadata": {
        "id": "1iDrvEwYQ4AE"
      },
      "source": [
        "now lets visualize these two lists using a bar chart"
      ]
    },
    {
      "cell_type": "code",
      "metadata": {
        "id": "XOOq1U9BQjKI"
      },
      "source": [
        ""
      ],
      "execution_count": null,
      "outputs": []
    }
  ]
}